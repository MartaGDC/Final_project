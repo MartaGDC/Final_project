{
 "cells": [
  {
   "cell_type": "code",
   "execution_count": 1,
   "id": "e3ee3508",
   "metadata": {},
   "outputs": [],
   "source": [
    "import geopandas as gpd\n",
    "import matplotlib.pyplot as plt\n",
    "import os"
   ]
  },
  {
   "cell_type": "code",
   "execution_count": null,
   "id": "e0ef9ba8",
   "metadata": {},
   "outputs": [],
   "source": [
    "gdf = gpd.read_file(gpd.datasets.get_path('naturalearth_lowres'))\n",
    "\n",
    "for index, row in gdf.iterrows():\n",
    "    fig, ax = plt.subplots(figsize = (6, 6))\n",
    "    gpd.GeoDataFrame(geometry=[row['geometry']]).plot(ax=ax, facecolor='none', edgecolor='black')\n",
    "    ax.axis('off')\n",
    "    country_code = row['iso_a3']\n",
    "    plt.savefig(f\"../images/maps/{country_code}.png\", dpi=300)\n",
    "    plt.close()"
   ]
  },
  {
   "cell_type": "code",
   "execution_count": null,
   "id": "866e65a0",
   "metadata": {},
   "outputs": [],
   "source": [
    "    gpd.GeoDataFrame(geometry=[row['geometry']]).plot(ax=ax, facecolor='none', edgecolor='black')\n",
    "\n",
    "    # Set axis limits (optional)\n",
    "    ax.set_xlim([row.bounds['minx'], row.bounds['maxx']])\n",
    "    ax.set_ylim([row.bounds['miny'], row.bounds['maxy']])\n",
    "\n",
    "    # Remove axis labels, ticks, and other elements\n",
    "    ax.axis('off')\n",
    "\n",
    "    # Save the plot as a PNG image for the current country\n",
    "    country_name = row['name']\n",
    "    output_path = os.path.join(output_dir, f'{country_name}.png')\n",
    "    plt.savefig(output_path, dpi=300, bbox_inches='tight')\n",
    "    plt.close()\n",
    "\n",
    "# Display a message when the process is complete\n",
    "print(\"Country images saved successfully.\")\n"
   ]
  }
 ],
 "metadata": {
  "kernelspec": {
   "display_name": "ironhack",
   "language": "python",
   "name": "ironhack"
  },
  "language_info": {
   "codemirror_mode": {
    "name": "ipython",
    "version": 3
   },
   "file_extension": ".py",
   "mimetype": "text/x-python",
   "name": "python",
   "nbconvert_exporter": "python",
   "pygments_lexer": "ipython3",
   "version": "3.11.5"
  }
 },
 "nbformat": 4,
 "nbformat_minor": 5
}
