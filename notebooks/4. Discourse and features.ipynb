{
 "cells": [
  {
   "cell_type": "code",
   "execution_count": 14,
   "id": "9e0574b5",
   "metadata": {},
   "outputs": [],
   "source": [
    "import pandas as pd\n",
    "import numpy as np"
   ]
  },
  {
   "cell_type": "code",
   "execution_count": 15,
   "id": "018f7911",
   "metadata": {},
   "outputs": [
    {
     "data": {
      "text/html": [
       "<div>\n",
       "<style scoped>\n",
       "    .dataframe tbody tr th:only-of-type {\n",
       "        vertical-align: middle;\n",
       "    }\n",
       "\n",
       "    .dataframe tbody tr th {\n",
       "        vertical-align: top;\n",
       "    }\n",
       "\n",
       "    .dataframe thead th {\n",
       "        text-align: right;\n",
       "    }\n",
       "</style>\n",
       "<table border=\"1\" class=\"dataframe\">\n",
       "  <thead>\n",
       "    <tr style=\"text-align: right;\">\n",
       "      <th></th>\n",
       "      <th>Country Name</th>\n",
       "      <th>Country Code</th>\n",
       "      <th>mean_gdp</th>\n",
       "      <th>mean_stability</th>\n",
       "      <th>Region</th>\n",
       "      <th>IncomeGroup</th>\n",
       "      <th>mean_child_noSchool</th>\n",
       "      <th>mean_ed_exp</th>\n",
       "      <th>mean_literacy</th>\n",
       "      <th>mean_ARV_coverage</th>\n",
       "      <th>mean_health_exp</th>\n",
       "      <th>mean_UHC_coverage</th>\n",
       "      <th>mean_law</th>\n",
       "      <th>mean_female_seats</th>\n",
       "      <th>mean_voice</th>\n",
       "      <th>mean_rights</th>\n",
       "      <th>mean_sex_index</th>\n",
       "      <th>censor</th>\n",
       "      <th>transition</th>\n",
       "      <th>mean_hate_protection</th>\n",
       "    </tr>\n",
       "  </thead>\n",
       "  <tbody>\n",
       "    <tr>\n",
       "      <th>21</th>\n",
       "      <td>Bosnia and Herzegovina</td>\n",
       "      <td>BIH</td>\n",
       "      <td>2.128269e+10</td>\n",
       "      <td>NaN</td>\n",
       "      <td>Europe &amp; Central Asia</td>\n",
       "      <td>Upper middle income</td>\n",
       "      <td>12.110834</td>\n",
       "      <td>NaN</td>\n",
       "      <td>98.300003</td>\n",
       "      <td>NaN</td>\n",
       "      <td>9.179916</td>\n",
       "      <td>67.666667</td>\n",
       "      <td>43.902365</td>\n",
       "      <td>22.222222</td>\n",
       "      <td>37.353107</td>\n",
       "      <td>5.289413</td>\n",
       "      <td>0.0</td>\n",
       "      <td>01. No censorship</td>\n",
       "      <td>02. Legal, but requires surgery</td>\n",
       "      <td>0.35</td>\n",
       "    </tr>\n",
       "  </tbody>\n",
       "</table>\n",
       "</div>"
      ],
      "text/plain": [
       "              Country Name Country Code      mean_gdp  mean_stability  \\\n",
       "21  Bosnia and Herzegovina          BIH  2.128269e+10             NaN   \n",
       "\n",
       "                   Region          IncomeGroup  mean_child_noSchool  \\\n",
       "21  Europe & Central Asia  Upper middle income            12.110834   \n",
       "\n",
       "    mean_ed_exp  mean_literacy  mean_ARV_coverage  mean_health_exp  \\\n",
       "21          NaN      98.300003                NaN         9.179916   \n",
       "\n",
       "    mean_UHC_coverage   mean_law  mean_female_seats  mean_voice  mean_rights  \\\n",
       "21          67.666667  43.902365          22.222222   37.353107     5.289413   \n",
       "\n",
       "    mean_sex_index             censor                       transition  \\\n",
       "21             0.0  01. No censorship  02. Legal, but requires surgery   \n",
       "\n",
       "    mean_hate_protection  \n",
       "21                  0.35  "
      ]
     },
     "execution_count": 15,
     "metadata": {},
     "output_type": "execute_result"
    }
   ],
   "source": [
    "country_features = pd.read_csv(\"../data/charactCountry/country_features.csv\", index_col=\"Unnamed: 0\")\n",
    "country_features.sample()"
   ]
  },
  {
   "cell_type": "code",
   "execution_count": 16,
   "id": "ed50a081",
   "metadata": {},
   "outputs": [],
   "source": [
    "discourse = pd.read_csv(\"../data/web.csv\", index_col=\"Unnamed: 0\")"
   ]
  },
  {
   "cell_type": "code",
   "execution_count": 17,
   "id": "fbf2887f",
   "metadata": {},
   "outputs": [
    {
     "data": {
      "text/html": [
       "<div>\n",
       "<style scoped>\n",
       "    .dataframe tbody tr th:only-of-type {\n",
       "        vertical-align: middle;\n",
       "    }\n",
       "\n",
       "    .dataframe tbody tr th {\n",
       "        vertical-align: top;\n",
       "    }\n",
       "\n",
       "    .dataframe thead th {\n",
       "        text-align: right;\n",
       "    }\n",
       "</style>\n",
       "<table border=\"1\" class=\"dataframe\">\n",
       "  <thead>\n",
       "    <tr style=\"text-align: right;\">\n",
       "      <th></th>\n",
       "      <th>lat</th>\n",
       "      <th>long</th>\n",
       "      <th>comment</th>\n",
       "      <th>id_web</th>\n",
       "      <th>positions</th>\n",
       "      <th>Country Name</th>\n",
       "      <th>Country Code</th>\n",
       "    </tr>\n",
       "  </thead>\n",
       "  <tbody>\n",
       "    <tr>\n",
       "      <th>50426</th>\n",
       "      <td>-0.917204</td>\n",
       "      <td>-89.598253</td>\n",
       "      <td>she told me she cared for me. we made out in t...</td>\n",
       "      <td>53708</td>\n",
       "      <td>[-89.5982531329887, -0.9172035373394113]</td>\n",
       "      <td>NaN</td>\n",
       "      <td>NaN</td>\n",
       "    </tr>\n",
       "  </tbody>\n",
       "</table>\n",
       "</div>"
      ],
      "text/plain": [
       "            lat       long                                            comment  \\\n",
       "50426 -0.917204 -89.598253  she told me she cared for me. we made out in t...   \n",
       "\n",
       "       id_web                                 positions Country Name  \\\n",
       "50426   53708  [-89.5982531329887, -0.9172035373394113]          NaN   \n",
       "\n",
       "      Country Code  \n",
       "50426          NaN  "
      ]
     },
     "execution_count": 17,
     "metadata": {},
     "output_type": "execute_result"
    }
   ],
   "source": [
    "discourse.sample()"
   ]
  },
  {
   "cell_type": "code",
   "execution_count": null,
   "id": "cf91c8fe",
   "metadata": {},
   "outputs": [],
   "source": []
  },
  {
   "cell_type": "code",
   "execution_count": null,
   "id": "dd31bfaa",
   "metadata": {},
   "outputs": [],
   "source": []
  },
  {
   "cell_type": "code",
   "execution_count": null,
   "id": "67e27b39",
   "metadata": {},
   "outputs": [],
   "source": []
  },
  {
   "cell_type": "code",
   "execution_count": null,
   "id": "0f250d30",
   "metadata": {},
   "outputs": [],
   "source": [
    "# There are many empty rows, fill with min (some of them are regions, when merged these rows will disappear)\n",
    "# child[\"mean_child_noSchool\"].loc[child[child[\"mean_child_noSchool\"].isna()].index] = child[\"mean_child_noSchool\"].max()"
   ]
  }
 ],
 "metadata": {
  "kernelspec": {
   "display_name": "ironhack",
   "language": "python",
   "name": "ironhack"
  },
  "language_info": {
   "codemirror_mode": {
    "name": "ipython",
    "version": 3
   },
   "file_extension": ".py",
   "mimetype": "text/x-python",
   "name": "python",
   "nbconvert_exporter": "python",
   "pygments_lexer": "ipython3",
   "version": "3.11.5"
  }
 },
 "nbformat": 4,
 "nbformat_minor": 5
}
